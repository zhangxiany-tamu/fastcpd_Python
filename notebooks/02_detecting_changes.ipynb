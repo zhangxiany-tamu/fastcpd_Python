{
 "cells": [
  {
   "cell_type": "markdown",
   "metadata": {},
   "source": [
    "# Getting Started with fastcpd: Part 2 - Detecting Change Points\n",
    "\n",
    "This tutorial shows how to use fastcpd to detect change points in time series data.\n",
    "\n",
    "---"
   ]
  },
  {
   "cell_type": "code",
   "execution_count": null,
   "metadata": {},
   "outputs": [],
   "source": [
    "import numpy as np\n",
    "import matplotlib.pyplot as plt\n",
    "from fastcpd import fastcpd\n",
    "from fastcpd.datasets import make_mean_change, make_glm_change, make_garch_change\n",
    "\n",
    "%matplotlib inline"
   ]
  },
  {
   "cell_type": "markdown",
   "metadata": {},
   "source": [
    "## Basic Usage\n",
    "\n",
    "The `fastcpd()` function detects change points. You need to specify:\n",
    "1. Your data\n",
    "2. The model `family`\n",
    "3. Optional: penalty parameter `beta`"
   ]
  },
  {
   "cell_type": "markdown",
   "metadata": {},
   "source": [
    "## 1. Mean Changes\n",
    "\n",
    "Simplest case - detecting when the mean shifts."
   ]
  },
  {
   "cell_type": "code",
   "execution_count": null,
   "metadata": {},
   "outputs": [],
   "source": "# Generate data with STRONG mean changes for clear detection\n# Specify: change points at [100, 200, 250] and large mean shifts (5 std devs)\ndata_dict = make_mean_change(\n    n_samples=300, \n    n_changepoints=3,\n    mean_deltas=[5.0],  # 5 std deviation shifts - very clear signal\n    seed=42\n)\ndata = data_dict['data']\ntrue_cps = data_dict['changepoints']\n\n# Detect change points\nresult = fastcpd(data, family=\"mean\", beta=\"MBIC\")\n\nprint(\"True change points:\", true_cps)\nprint(\"Detected change points:\", result.cp_set)\nprint(f\"SNR: {data_dict['metadata']['snr_db']:.1f} dB (higher is easier to detect)\")\n\n# Visualize\nplt.figure(figsize=(12, 4))\nplt.plot(data, linewidth=0.8, label='Data')\nfor cp in true_cps:\n    plt.axvline(cp, color='green', linestyle='--', alpha=0.6, label='True' if cp == true_cps[0] else '')\nfor cp in result.cp_set:\n    plt.axvline(cp, color='red', linestyle=':', linewidth=2, alpha=0.8, label='Detected' if cp == result.cp_set[0] else '')\nplt.xlabel('Time')\nplt.ylabel('Value')\nplt.title('Mean Change Detection')\nplt.legend()\nplt.grid(True, alpha=0.3)\nplt.show()"
  },
  {
   "cell_type": "markdown",
   "metadata": {},
   "source": [
    "## 2. Variance Changes\n",
    "\n",
    "Detecting when volatility/variance changes."
   ]
  },
  {
   "cell_type": "code",
   "execution_count": null,
   "metadata": {},
   "outputs": [],
   "source": "from fastcpd.datasets import make_variance_change\n\n# Generate data with LARGE variance changes for clear detection\n# Use variance ratios of [1.0, 4.0, 0.5] for strong contrast\ndata_dict = make_variance_change(\n    n_samples=300, \n    n_changepoints=2,\n    variance_ratios=[1.0, 4.0, 0.5],  # Strong variance changes\n    seed=42\n)\ndata = data_dict['data']\ntrue_cps = data_dict['changepoints']\n\n# Detect\nresult = fastcpd(data, family=\"variance\", beta=\"MBIC\")\n\nprint(\"True:\", true_cps)\nprint(\"Detected:\", result.cp_set)\nprint(f\"Variance ratios: {data_dict['metadata']['variance_ratios']}\")"
  },
  {
   "cell_type": "markdown",
   "metadata": {},
   "source": [
    "## 3. Regression (with Covariates)\n",
    "\n",
    "When you have predictors/features and want to detect coefficient changes."
   ]
  },
  {
   "cell_type": "code",
   "execution_count": null,
   "metadata": {},
   "outputs": [],
   "source": [
    "from fastcpd.datasets import make_regression_change\n",
    "\n",
    "# Generate data\n",
    "data_dict = make_regression_change(n_samples=300, n_changepoints=2, n_features=3, seed=42)\n",
    "data = data_dict['data']  # Shape: (n, features+1) - first column is response\n",
    "true_cps = data_dict['changepoints']\n",
    "\n",
    "# Detect\n",
    "result = fastcpd(data, family=\"lm\", beta=\"BIC\")\n",
    "\n",
    "print(\"True:\", true_cps)\n",
    "print(\"Detected:\", result.cp_set)\n",
    "\n",
    "# Visualize response variable\n",
    "plt.figure(figsize=(12, 4))\n",
    "plt.plot(data[:, 0], linewidth=0.8)\n",
    "for cp in true_cps:\n",
    "    plt.axvline(cp, color='green', linestyle='--', alpha=0.6)\n",
    "for cp in result.cp_set:\n",
    "    plt.axvline(cp, color='red', linestyle=':', linewidth=2)\n",
    "plt.xlabel('Time')\n",
    "plt.ylabel('Response')\n",
    "plt.title('Regression: Coefficient Changes')\n",
    "plt.grid(True, alpha=0.3)\n",
    "plt.show()"
   ]
  },
  {
   "cell_type": "markdown",
   "metadata": {},
   "source": [
    "## 4. GLM: Binomial (Binary/Count Data)\n",
    "\n",
    "For logistic regression or binomial data."
   ]
  },
  {
   "cell_type": "code",
   "execution_count": null,
   "metadata": {},
   "outputs": [],
   "source": "# Generate binary data with STRONG coefficient changes\n# Use larger coefficients for better separation\ndata_dict = make_glm_change(\n    n_samples=300, \n    n_changepoints=2, \n    n_features=3, \n    family='binomial',\n    coef_changes='sign_flip',  # Clear coefficient pattern\n    seed=42\n)\ndata = data_dict['data']\ntrue_cps = data_dict['changepoints']\n\n# Detect - use lower beta for GLM\nresult = fastcpd(data, family=\"binomial\", beta=5.0)\n\nprint(\"True:\", true_cps)\nprint(\"Detected:\", result.cp_set)\nprint(f\"AUC per segment: {[f'{a:.2f}' if a else 'N/A' for a in data_dict['metadata']['separation_per_segment']]}\")\n\n# Visualize\nplt.figure(figsize=(12, 4))\nplt.plot(data[:, 0], 'o', markersize=2, alpha=0.6)\nfor cp in true_cps:\n    plt.axvline(cp, color='green', linestyle='--', alpha=0.6)\nfor cp in result.cp_set:\n    plt.axvline(cp, color='red', linestyle=':', linewidth=2)\nplt.xlabel('Time')\nplt.ylabel('Binary Response')\nplt.title('Binomial GLM Detection')\nplt.grid(True, alpha=0.3)\nplt.show()"
  },
  {
   "cell_type": "markdown",
   "metadata": {},
   "source": "## 5. Controlling Data Generation\n\nYou can control signal strength to make changes easier or harder to detect."
  },
  {
   "cell_type": "markdown",
   "metadata": {},
   "source": "## Controlling Data Generation\n\nYou can control signal strength to make changes easier or harder to detect:\n\n**Mean changes:**\n```python\n# Weak signal (hard to detect)\ndata_dict = make_mean_change(n_samples=300, n_changepoints=2, mean_deltas=[1.0])\n\n# Strong signal (easy to detect)\ndata_dict = make_mean_change(n_samples=300, n_changepoints=2, mean_deltas=[5.0])\n```\n\n**Variance changes:**\n```python\n# Subtle changes\ndata_dict = make_variance_change(n_samples=300, variance_ratios=[1.0, 1.5, 2.0])\n\n# Strong changes  \ndata_dict = make_variance_change(n_samples=300, variance_ratios=[1.0, 4.0, 0.5])\n```\n\n**GLM (Binomial):**\n```python\n# 'sign_flip' creates clear coefficient pattern (easier to detect)\ndata_dict = make_glm_change(n_samples=300, family='binomial', coef_changes='sign_flip')\n```\n\n**Tip:** Use stronger signals when learning. Once familiar, try weaker signals to test robustness."
  },
  {
   "cell_type": "code",
   "execution_count": null,
   "metadata": {},
   "outputs": [],
   "source": "# Generate data with STRONG signal\ndata_dict = make_mean_change(n_samples=300, n_changepoints=3, mean_deltas=[5.0], seed=42)\ndata = data_dict['data']\n\n# Try different beta values\nfor beta in [\"MBIC\", \"BIC\", 5.0, 20.0]:\n    result = fastcpd(data, family=\"mean\", beta=beta)\n    beta_str = str(beta) if isinstance(beta, (int, float)) else beta\n    print(f\"Beta={beta_str:>6s}: {len(result.cp_set)} change points detected at {result.cp_set}\")"
  },
  {
   "cell_type": "markdown",
   "metadata": {},
   "source": [
    "### Vanilla Percentage (Speed vs Accuracy)\n",
    "\n",
    "Controls the trade-off between speed and accuracy:\n",
    "- `vanilla_percentage=0.0` - Pure SeGD (faster, approximate)\n",
    "- `vanilla_percentage=1.0` - Pure PELT (slower, exact)\n",
    "- `vanilla_percentage=0.5` - Hybrid (balanced)"
   ]
  },
  {
   "cell_type": "code",
   "execution_count": null,
   "metadata": {},
   "outputs": [],
   "source": [
    "# For small datasets (n < 500): use vanilla_percentage=1.0 for highest accuracy\n",
    "result = fastcpd(data, family=\"mean\", beta=\"MBIC\", vanilla_percentage=1.0)\n",
    "\n",
    "# For larger datasets: use vanilla_percentage=0.5 for speed\n",
    "# result = fastcpd(data, family=\"mean\", beta=\"MBIC\", vanilla_percentage=0.5)"
   ]
  },
  {
   "cell_type": "markdown",
   "metadata": {},
   "source": [
    "## Understanding Results\n",
    "\n",
    "The result object contains:"
   ]
  },
  {
   "cell_type": "code",
   "execution_count": null,
   "metadata": {},
   "outputs": [],
   "source": [
    "result = fastcpd(data, family=\"mean\", beta=\"MBIC\")\n",
    "\n",
    "print(\"Detected change points:\", result.cp_set)\n",
    "print(\"Number of segments:\", len(result.cp_set) + 1)\n",
    "print(\"\\nAll attributes:\")\n",
    "print(dir(result))"
   ]
  },
  {
   "cell_type": "markdown",
   "metadata": {},
   "source": "## Summary\n\n**Core model families covered in this tutorial:**\n- `\"mean\"` - Mean changes\n- `\"variance\"` - Variance changes\n- `\"meanvariance\"` - Both mean and variance\n- `\"lm\"` - Linear regression\n- `\"binomial\"` - Logistic/binomial GLM\n\n**Additional families available** (see advanced examples):\n- `\"lasso\"` - LASSO regression\n- `\"poisson\"` - Poisson GLM  \n- `\"garch\"` - GARCH volatility\n- `\"arma\"` - ARMA time series\n\n**Basic syntax:**\n```python\nresult = fastcpd(data, family=\"mean\", beta=\"MBIC\")\nchange_points = result.cp_set\n```\n\n**Best practice**: Use automatic penalty selection (`beta=\"MBIC\"` or `beta=\"BIC\"`) for reliable results.\n\n---\n\n**Next**: Part 3 - Evaluating and Visualizing Results"
  }
 ],
 "metadata": {
  "kernelspec": {
   "display_name": "Python 3",
   "language": "python",
   "name": "python3"
  },
  "language_info": {
   "codemirror_mode": {
    "name": "ipython",
    "version": 3
   },
   "file_extension": ".py",
   "mimetype": "text/x-python",
   "name": "python",
   "nbconvert_exporter": "python",
   "pygments_lexer": "ipython3",
   "version": "3.8.0"
  }
 },
 "nbformat": 4,
 "nbformat_minor": 4
}