{
 "cells": [
  {
   "cell_type": "markdown",
   "metadata": {},
   "source": [
    "# Getting Started with fastcpd: Part 2 - Detecting Change Points\n",
    "\n",
    "This tutorial shows how to use fastcpd to detect change points in time series data.\n",
    "\n",
    "---"
   ]
  },
  {
   "cell_type": "code",
   "execution_count": null,
   "metadata": {},
   "outputs": [],
   "source": [
    "import numpy as np\n",
    "import matplotlib.pyplot as plt\n",
    "from fastcpd import fastcpd\n",
    "from fastcpd.datasets import make_mean_change, make_glm_change, make_garch_change\n",
    "\n",
    "%matplotlib inline"
   ]
  },
  {
   "cell_type": "markdown",
   "metadata": {},
   "source": [
    "## Basic Usage\n",
    "\n",
    "The `fastcpd()` function detects change points. You need to specify:\n",
    "1. Your data\n",
    "2. The model `family`\n",
    "3. Optional: penalty parameter `beta`"
   ]
  },
  {
   "cell_type": "markdown",
   "metadata": {},
   "source": [
    "## 1. Mean Changes\n",
    "\n",
    "Simplest case - detecting when the mean shifts."
   ]
  },
  {
   "cell_type": "code",
   "execution_count": null,
   "metadata": {},
   "outputs": [],
   "source": [
    "# Generate data\n",
    "data_dict = make_mean_change(n_samples=300, n_changepoints=3, seed=42)\n",
    "data = data_dict['data']\n",
    "true_cps = data_dict['changepoints']\n",
    "\n",
    "# Detect change points\n",
    "result = fastcpd(data, family=\"mean\", beta=\"MBIC\")\n",
    "\n",
    "print(\"True change points:\", true_cps)\n",
    "print(\"Detected change points:\", result.cp_set)\n",
    "\n",
    "# Visualize\n",
    "plt.figure(figsize=(12, 4))\n",
    "plt.plot(data, linewidth=0.8, label='Data')\n",
    "for cp in true_cps:\n",
    "    plt.axvline(cp, color='green', linestyle='--', alpha=0.6, label='True' if cp == true_cps[0] else '')\n",
    "for cp in result.cp_set:\n",
    "    plt.axvline(cp, color='red', linestyle=':', linewidth=2, alpha=0.8, label='Detected' if cp == result.cp_set[0] else '')\n",
    "plt.xlabel('Time')\n",
    "plt.ylabel('Value')\n",
    "plt.title('Mean Change Detection')\n",
    "plt.legend()\n",
    "plt.grid(True, alpha=0.3)\n",
    "plt.show()"
   ]
  },
  {
   "cell_type": "markdown",
   "metadata": {},
   "source": [
    "## 2. Variance Changes\n",
    "\n",
    "Detecting when volatility/variance changes."
   ]
  },
  {
   "cell_type": "code",
   "execution_count": null,
   "metadata": {},
   "outputs": [],
   "source": [
    "from fastcpd.datasets import make_variance_change\n",
    "\n",
    "# Generate data\n",
    "data_dict = make_variance_change(n_samples=300, n_changepoints=2, seed=42)\n",
    "data = data_dict['data']\n",
    "true_cps = data_dict['changepoints']\n",
    "\n",
    "# Detect\n",
    "result = fastcpd(data, family=\"variance\", beta=\"MBIC\")\n",
    "\n",
    "print(\"True:\", true_cps)\n",
    "print(\"Detected:\", result.cp_set)"
   ]
  },
  {
   "cell_type": "markdown",
   "metadata": {},
   "source": [
    "## 3. Regression (with Covariates)\n",
    "\n",
    "When you have predictors/features and want to detect coefficient changes."
   ]
  },
  {
   "cell_type": "code",
   "execution_count": null,
   "metadata": {},
   "outputs": [],
   "source": [
    "from fastcpd.datasets import make_regression_change\n",
    "\n",
    "# Generate data\n",
    "data_dict = make_regression_change(n_samples=300, n_changepoints=2, n_features=3, seed=42)\n",
    "data = data_dict['data']  # Shape: (n, features+1) - first column is response\n",
    "true_cps = data_dict['changepoints']\n",
    "\n",
    "# Detect\n",
    "result = fastcpd(data, family=\"lm\", beta=\"BIC\")\n",
    "\n",
    "print(\"True:\", true_cps)\n",
    "print(\"Detected:\", result.cp_set)\n",
    "\n",
    "# Visualize response variable\n",
    "plt.figure(figsize=(12, 4))\n",
    "plt.plot(data[:, 0], linewidth=0.8)\n",
    "for cp in true_cps:\n",
    "    plt.axvline(cp, color='green', linestyle='--', alpha=0.6)\n",
    "for cp in result.cp_set:\n",
    "    plt.axvline(cp, color='red', linestyle=':', linewidth=2)\n",
    "plt.xlabel('Time')\n",
    "plt.ylabel('Response')\n",
    "plt.title('Regression: Coefficient Changes')\n",
    "plt.grid(True, alpha=0.3)\n",
    "plt.show()"
   ]
  },
  {
   "cell_type": "markdown",
   "metadata": {},
   "source": [
    "## 4. GLM: Binomial (Binary/Count Data)\n",
    "\n",
    "For logistic regression or binomial data."
   ]
  },
  {
   "cell_type": "code",
   "execution_count": null,
   "metadata": {},
   "outputs": [],
   "source": [
    "# Generate binary data\n",
    "data_dict = make_glm_change(n_samples=300, n_changepoints=2, n_features=3, family='binomial', seed=42)\n",
    "data = data_dict['data']\n",
    "true_cps = data_dict['changepoints']\n",
    "\n",
    "# Detect\n",
    "result = fastcpd(data, family=\"binomial\", beta=\"MBIC\")\n",
    "\n",
    "print(\"True:\", true_cps)\n",
    "print(\"Detected:\", result.cp_set)\n",
    "\n",
    "# Visualize\n",
    "plt.figure(figsize=(12, 4))\n",
    "plt.plot(data[:, 0], 'o', markersize=2, alpha=0.6)\n",
    "for cp in true_cps:\n",
    "    plt.axvline(cp, color='green', linestyle='--', alpha=0.6)\n",
    "for cp in result.cp_set:\n",
    "    plt.axvline(cp, color='red', linestyle=':', linewidth=2)\n",
    "plt.xlabel('Time')\n",
    "plt.ylabel('Binary Response')\n",
    "plt.title('Binomial GLM Detection')\n",
    "plt.grid(True, alpha=0.3)\n",
    "plt.show()"
   ]
  },
  {
   "cell_type": "markdown",
   "metadata": {},
   "source": [
    "## 5. GLM: Poisson (Count Data)\n",
    "\n",
    "For count/rate data."
   ]
  },
  {
   "cell_type": "code",
   "execution_count": null,
   "metadata": {},
   "outputs": [],
   "source": [
    "# Generate count data\n",
    "data_dict = make_glm_change(n_samples=300, n_changepoints=2, n_features=3, family='poisson', seed=42)\n",
    "data = data_dict['data']\n",
    "true_cps = data_dict['changepoints']\n",
    "\n",
    "# Detect\n",
    "result = fastcpd(data, family=\"poisson\", beta=\"MBIC\")\n",
    "\n",
    "print(\"True:\", true_cps)\n",
    "print(\"Detected:\", result.cp_set)"
   ]
  },
  {
   "cell_type": "markdown",
   "metadata": {},
   "source": [
    "## 6. ARMA Time Series"
   ]
  },
  {
   "cell_type": "code",
   "execution_count": null,
   "metadata": {},
   "outputs": [],
   "source": [
    "from fastcpd.datasets import make_arma_change\n",
    "\n",
    "# Generate ARMA data\n",
    "data_dict = make_arma_change(n_samples=300, n_changepoints=2, seed=42)\n",
    "data = data_dict['data']\n",
    "true_cps = data_dict['changepoints']\n",
    "\n",
    "# Detect\n",
    "result = fastcpd(data, family=\"arma\", beta=\"MBIC\", order=[1, 1])\n",
    "\n",
    "print(\"True:\", true_cps)\n",
    "print(\"Detected:\", result.cp_set)"
   ]
  },
  {
   "cell_type": "markdown",
   "metadata": {},
   "source": [
    "## 7. GARCH (Volatility Models)"
   ]
  },
  {
   "cell_type": "code",
   "execution_count": null,
   "metadata": {},
   "outputs": [],
   "source": [
    "# Generate GARCH data\n",
    "data_dict = make_garch_change(n_samples=300, n_changepoints=2, seed=42)\n",
    "data = data_dict['data']\n",
    "true_cps = data_dict['changepoints']\n",
    "\n",
    "# Detect\n",
    "result = fastcpd(data, family=\"garch\", beta=\"MBIC\", order=[1, 1])\n",
    "\n",
    "print(\"True:\", true_cps)\n",
    "print(\"Detected:\", result.cp_set)\n",
    "\n",
    "# Visualize\n",
    "plt.figure(figsize=(12, 4))\n",
    "plt.plot(data, linewidth=0.6)\n",
    "for cp in true_cps:\n",
    "    plt.axvline(cp, color='green', linestyle='--', alpha=0.6, label='True' if cp == true_cps[0] else '')\n",
    "for cp in result.cp_set:\n",
    "    plt.axvline(cp, color='red', linestyle=':', linewidth=2, label='Detected' if cp == result.cp_set[0] else '')\n",
    "plt.xlabel('Time')\n",
    "plt.ylabel('Returns')\n",
    "plt.title('GARCH Volatility Change Detection')\n",
    "plt.legend()\n",
    "plt.grid(True, alpha=0.3)\n",
    "plt.show()"
   ]
  },
  {
   "cell_type": "markdown",
   "metadata": {},
   "source": [
    "## Tuning Parameters\n",
    "\n",
    "### Beta (Penalty Parameter)\n",
    "\n",
    "Controls how many change points are detected:\n",
    "- **Higher beta** \u2192 Fewer change points (more conservative)\n",
    "- **Lower beta** \u2192 More change points (more sensitive)\n",
    "\n",
    "Options:\n",
    "- `\"MBIC\"` - Modified BIC (recommended)\n",
    "- `\"BIC\"` - Standard BIC\n",
    "- `\"MDL\"` - Minimum Description Length\n",
    "- Numeric value (e.g., `10.0`)"
   ]
  },
  {
   "cell_type": "code",
   "execution_count": null,
   "metadata": {},
   "outputs": [],
   "source": [
    "# Generate data\n",
    "data_dict = make_mean_change(n_samples=300, n_changepoints=3, seed=42)\n",
    "data = data_dict['data']\n",
    "\n",
    "# Try different beta values\n",
    "for beta in [\"MBIC\", \"BIC\", 5.0, 20.0]:\n",
    "    result = fastcpd(data, family=\"mean\", beta=beta)\n",
    "    print(f\"Beta={beta:6s}: {len(result.cp_set)} change points detected at {result.cp_set}\")"
   ]
  },
  {
   "cell_type": "markdown",
   "metadata": {},
   "source": [
    "### Vanilla Percentage (Speed vs Accuracy)\n",
    "\n",
    "Controls the trade-off between speed and accuracy:\n",
    "- `vanilla_percentage=0.0` - Pure SeGD (faster, approximate)\n",
    "- `vanilla_percentage=1.0` - Pure PELT (slower, exact)\n",
    "- `vanilla_percentage=0.5` - Hybrid (balanced)"
   ]
  },
  {
   "cell_type": "code",
   "execution_count": null,
   "metadata": {},
   "outputs": [],
   "source": [
    "# For small datasets (n < 500): use vanilla_percentage=1.0 for highest accuracy\n",
    "result = fastcpd(data, family=\"mean\", beta=\"MBIC\", vanilla_percentage=1.0)\n",
    "\n",
    "# For larger datasets: use vanilla_percentage=0.5 for speed\n",
    "# result = fastcpd(data, family=\"mean\", beta=\"MBIC\", vanilla_percentage=0.5)"
   ]
  },
  {
   "cell_type": "markdown",
   "metadata": {},
   "source": [
    "## Understanding Results\n",
    "\n",
    "The result object contains:"
   ]
  },
  {
   "cell_type": "code",
   "execution_count": null,
   "metadata": {},
   "outputs": [],
   "source": [
    "result = fastcpd(data, family=\"mean\", beta=\"MBIC\")\n",
    "\n",
    "print(\"Detected change points:\", result.cp_set)\n",
    "print(\"Number of segments:\", len(result.cp_set) + 1)\n",
    "print(\"\\nAll attributes:\")\n",
    "print(dir(result))"
   ]
  },
  {
   "cell_type": "markdown",
   "metadata": {},
   "source": [
    "## Summary\n",
    "\n",
    "**Model families available:**\n",
    "- `\"mean\"` - Mean changes\n",
    "- `\"variance\"` - Variance changes\n",
    "- `\"meanvariance\"` - Both mean and variance\n",
    "- `\"lm\"` - Linear regression\n",
    "- `\"lasso\"` - LASSO regression\n",
    "- `\"binomial\"` - Logistic/binomial GLM\n",
    "- `\"poisson\"` - Poisson GLM\n",
    "- `\"arma\"` - ARMA time series\n",
    "- `\"garch\"` - GARCH volatility\n",
    "\n",
    "**Basic syntax:**\n",
    "```python\n",
    "result = fastcpd(data, family=\"mean\", beta=\"MBIC\")\n",
    "change_points = result.cp_set\n",
    "```\n",
    "\n",
    "---\n",
    "\n",
    "**Next**: Part 3 - Evaluating and Visualizing Results"
   ]
  }
 ],
 "metadata": {
  "kernelspec": {
   "display_name": "Python 3",
   "language": "python",
   "name": "python3"
  },
  "language_info": {
   "codemirror_mode": {
    "name": "ipython",
    "version": 3
   },
   "file_extension": ".py",
   "mimetype": "text/x-python",
   "name": "python",
   "nbconvert_exporter": "python",
   "pygments_lexer": "ipython3",
   "version": "3.8.0"
  }
 },
 "nbformat": 4,
 "nbformat_minor": 4
}