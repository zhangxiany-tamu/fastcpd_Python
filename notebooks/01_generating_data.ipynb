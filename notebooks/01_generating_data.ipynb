{
 "cells": [
  {
   "cell_type": "markdown",
   "metadata": {},
   "source": [
    "# Getting Started with fastcpd: Part 1 - Generating Data\n",
    "\n",
    "This tutorial shows how to generate synthetic data for testing change point detection algorithms.\n",
    "\n",
    "---"
   ]
  },
  {
   "cell_type": "code",
   "execution_count": null,
   "metadata": {},
   "outputs": [],
   "source": [
    "import numpy as np\n",
    "import matplotlib.pyplot as plt\n",
    "from fastcpd.datasets import (\n",
    "    make_mean_change,\n",
    "    make_variance_change,\n",
    "    make_regression_change,\n",
    "    make_glm_change,\n",
    "    make_arma_change,\n",
    "    make_garch_change\n",
    ")\n",
    "\n",
    "%matplotlib inline"
   ]
  },
  {
   "cell_type": "markdown",
   "metadata": {},
   "source": [
    "## 1. Mean Changes (Simplest Case)\n",
    "\n",
    "Data where the mean shifts at change points."
   ]
  },
  {
   "cell_type": "code",
   "execution_count": null,
   "metadata": {},
   "outputs": [],
   "source": [
    "# Generate data with 3 change points\n",
    "data_dict = make_mean_change(\n",
    "    n_samples=500,\n",
    "    n_changepoints=3,\n",
    "    noise_std=1.0,\n",
    "    seed=42\n",
    ")\n",
    "\n",
    "# What you get back\n",
    "print(\"Data shape:\", data_dict['data'].shape)\n",
    "print(\"True change points:\", data_dict['changepoints'])\n",
    "print(\"SNR (dB):\", f\"{data_dict['metadata']['snr_db']:.2f}\")\n",
    "\n",
    "# Visualize\n",
    "plt.figure(figsize=(12, 4))\n",
    "plt.plot(data_dict['data'], linewidth=0.8)\n",
    "for cp in data_dict['changepoints']:\n",
    "    plt.axvline(cp, color='red', linestyle='--', alpha=0.7, label='True CP' if cp == data_dict['changepoints'][0] else '')\n",
    "plt.xlabel('Time')\n",
    "plt.ylabel('Value')\n",
    "plt.title('Mean Change Data')\n",
    "plt.legend()\n",
    "plt.grid(True, alpha=0.3)\n",
    "plt.show()"
   ]
  },
  {
   "cell_type": "markdown",
   "metadata": {},
   "source": [
    "## 2. Variance Changes\n",
    "\n",
    "Data where variance/volatility changes at change points."
   ]
  },
  {
   "cell_type": "code",
   "execution_count": null,
   "metadata": {},
   "outputs": [],
   "source": [
    "data_dict = make_variance_change(\n",
    "    n_samples=500,\n",
    "    n_changepoints=3,\n",
    "    seed=42\n",
    ")\n",
    "\n",
    "print(\"Change points:\", data_dict['changepoints'])\n",
    "print(\"Variance ratios:\", [f\"{v:.2f}\" for v in data_dict['metadata']['variance_ratios']])\n",
    "\n",
    "# Visualize\n",
    "plt.figure(figsize=(12, 4))\n",
    "plt.plot(data_dict['data'], linewidth=0.8)\n",
    "for cp in data_dict['changepoints']:\n",
    "    plt.axvline(cp, color='red', linestyle='--', alpha=0.7)\n",
    "plt.xlabel('Time')\n",
    "plt.ylabel('Value')\n",
    "plt.title('Variance Change Data')\n",
    "plt.grid(True, alpha=0.3)\n",
    "plt.show()"
   ]
  },
  {
   "cell_type": "markdown",
   "metadata": {},
   "source": [
    "## 3. Regression (Linear Model)\n",
    "\n",
    "Data with covariates where regression coefficients change."
   ]
  },
  {
   "cell_type": "code",
   "execution_count": null,
   "metadata": {},
   "outputs": [],
   "source": [
    "data_dict = make_regression_change(\n",
    "    n_samples=500,\n",
    "    n_changepoints=2,\n",
    "    n_features=3,\n",
    "    noise_std=0.5,\n",
    "    seed=42\n",
    ")\n",
    "\n",
    "print(\"Data shape (y + X):\", data_dict['data'].shape)\n",
    "print(\"Change points:\", data_dict['changepoints'])\n",
    "print(\"\\nCoefficients per segment:\")\n",
    "for i, coef in enumerate(data_dict['true_coefs']):\n",
    "    print(f\"  Segment {i+1}: {[f'{c:.2f}' for c in coef]}\")\n",
    "\n",
    "# Visualize response variable\n",
    "plt.figure(figsize=(12, 4))\n",
    "plt.plot(data_dict['y'], linewidth=0.8)\n",
    "for cp in data_dict['changepoints']:\n",
    "    plt.axvline(cp, color='red', linestyle='--', alpha=0.7)\n",
    "plt.xlabel('Time')\n",
    "plt.ylabel('Response (y)')\n",
    "plt.title('Regression with Coefficient Changes')\n",
    "plt.grid(True, alpha=0.3)\n",
    "plt.show()"
   ]
  },
  {
   "cell_type": "markdown",
   "metadata": {},
   "source": [
    "## 4. GLM: Binomial (Logistic Regression)\n",
    "\n",
    "Binary/count data with GLM coefficients changing."
   ]
  },
  {
   "cell_type": "code",
   "execution_count": null,
   "metadata": {},
   "outputs": [],
   "source": [
    "data_dict = make_glm_change(\n",
    "    n_samples=500,\n",
    "    n_changepoints=2,\n",
    "    n_features=3,\n",
    "    family='binomial',\n",
    "    seed=42\n",
    ")\n",
    "\n",
    "print(\"Data shape:\", data_dict['data'].shape)\n",
    "print(\"Response values:\", np.unique(data_dict['y']))\n",
    "print(\"Change points:\", data_dict['changepoints'])\n",
    "\n",
    "# Visualize\n",
    "plt.figure(figsize=(12, 4))\n",
    "plt.plot(data_dict['y'], 'o', markersize=2, alpha=0.6)\n",
    "for cp in data_dict['changepoints']:\n",
    "    plt.axvline(cp, color='red', linestyle='--', alpha=0.7)\n",
    "plt.xlabel('Time')\n",
    "plt.ylabel('Binary Response')\n",
    "plt.title('Binomial GLM Data')\n",
    "plt.grid(True, alpha=0.3)\n",
    "plt.show()"
   ]
  },
  {
   "cell_type": "markdown",
   "metadata": {},
   "source": [
    "## 5. GLM: Poisson (Count Data)\n",
    "\n",
    "Count data with changing intensity."
   ]
  },
  {
   "cell_type": "code",
   "execution_count": null,
   "metadata": {},
   "outputs": [],
   "source": [
    "data_dict = make_glm_change(\n",
    "    n_samples=500,\n",
    "    n_changepoints=2,\n",
    "    n_features=3,\n",
    "    family='poisson',\n",
    "    seed=42\n",
    ")\n",
    "\n",
    "print(\"Response range:\", [data_dict['y'].min(), data_dict['y'].max()])\n",
    "print(\"Change points:\", data_dict['changepoints'])\n",
    "\n",
    "# Visualize\n",
    "plt.figure(figsize=(12, 4))\n",
    "plt.plot(data_dict['y'], linewidth=0.8)\n",
    "for cp in data_dict['changepoints']:\n",
    "    plt.axvline(cp, color='red', linestyle='--', alpha=0.7)\n",
    "plt.xlabel('Time')\n",
    "plt.ylabel('Count')\n",
    "plt.title('Poisson GLM Data')\n",
    "plt.grid(True, alpha=0.3)\n",
    "plt.show()"
   ]
  },
  {
   "cell_type": "markdown",
   "metadata": {},
   "source": [
    "## 6. ARMA Time Series\n",
    "\n",
    "Autoregressive moving average models with parameter changes."
   ]
  },
  {
   "cell_type": "code",
   "execution_count": null,
   "metadata": {},
   "outputs": [],
   "source": [
    "data_dict = make_arma_change(\n",
    "    n_samples=500,\n",
    "    n_changepoints=2,\n",
    "    orders=[(1,1), (2,0), (0,2)],  # ARMA(1,1), AR(2), MA(2)\n",
    "    seed=42\n",
    ")\n",
    "\n",
    "print(\"Change points:\", data_dict['changepoints'])\n",
    "print(\"ARMA orders per segment:\", data_dict['metadata']['orders'])\n",
    "\n",
    "# Visualize\n",
    "plt.figure(figsize=(12, 4))\n",
    "plt.plot(data_dict['data'], linewidth=0.8)\n",
    "for cp in data_dict['changepoints']:\n",
    "    plt.axvline(cp, color='red', linestyle='--', alpha=0.7)\n",
    "plt.xlabel('Time')\n",
    "plt.ylabel('Value')\n",
    "plt.title('ARMA Time Series with Parameter Changes')\n",
    "plt.grid(True, alpha=0.3)\n",
    "plt.show()"
   ]
  },
  {
   "cell_type": "markdown",
   "metadata": {},
   "source": [
    "## 7. GARCH (Volatility Changes)\n",
    "\n",
    "Financial time series with changing volatility regimes."
   ]
  },
  {
   "cell_type": "code",
   "execution_count": null,
   "metadata": {},
   "outputs": [],
   "source": [
    "data_dict = make_garch_change(\n",
    "    n_samples=500,\n",
    "    n_changepoints=2,\n",
    "    volatility_regimes=['low', 'high', 'medium'],\n",
    "    seed=42\n",
    ")\n",
    "\n",
    "print(\"Change points:\", data_dict['changepoints'])\n",
    "print(\"Volatility regimes:\", data_dict['metadata']['volatility_regimes'])\n",
    "\n",
    "# Visualize returns and volatility\n",
    "fig, (ax1, ax2) = plt.subplots(2, 1, figsize=(12, 6), sharex=True)\n",
    "\n",
    "ax1.plot(data_dict['data'], linewidth=0.6)\n",
    "for cp in data_dict['changepoints']:\n",
    "    ax1.axvline(cp, color='red', linestyle='--', alpha=0.7)\n",
    "ax1.set_ylabel('Returns')\n",
    "ax1.set_title('GARCH: Returns and Volatility')\n",
    "ax1.grid(True, alpha=0.3)\n",
    "\n",
    "ax2.plot(data_dict['volatility'], color='orange', linewidth=0.8)\n",
    "for cp in data_dict['changepoints']:\n",
    "    ax2.axvline(cp, color='red', linestyle='--', alpha=0.7, label='Change Point' if cp == data_dict['changepoints'][0] else '')\n",
    "ax2.set_xlabel('Time')\n",
    "ax2.set_ylabel('Volatility')\n",
    "ax2.legend()\n",
    "ax2.grid(True, alpha=0.3)\n",
    "\n",
    "plt.tight_layout()\n",
    "plt.show()"
   ]
  },
  {
   "cell_type": "markdown",
   "metadata": {},
   "source": [
    "## Summary\n",
    "\n",
    "You can generate data for 7 different change point scenarios:\n",
    "\n",
    "1. **Mean changes** - `make_mean_change()`\n",
    "2. **Variance changes** - `make_variance_change()`\n",
    "3. **Regression** - `make_regression_change()`\n",
    "4. **Binomial GLM** - `make_glm_change(family='binomial')`\n",
    "5. **Poisson GLM** - `make_glm_change(family='poisson')`\n",
    "6. **ARMA** - `make_arma_change()`\n",
    "7. **GARCH** - `make_garch_change()`\n",
    "\n",
    "Each function returns:\n",
    "- `data`: The generated time series\n",
    "- `changepoints`: True change point locations\n",
    "- `metadata`: Additional information (SNR, parameters, etc.)\n",
    "\n",
    "---\n",
    "\n",
    "**Next**: Part 2 - Detecting Change Points"
   ]
  }
 ],
 "metadata": {
  "kernelspec": {
   "display_name": "Python 3",
   "language": "python",
   "name": "python3"
  },
  "language_info": {
   "codemirror_mode": {
    "name": "ipython",
    "version": 3
   },
   "file_extension": ".py",
   "mimetype": "text/x-python",
   "name": "python",
   "nbconvert_exporter": "python",
   "pygments_lexer": "ipython3",
   "version": "3.8.0"
  }
 },
 "nbformat": 4,
 "nbformat_minor": 4
}
